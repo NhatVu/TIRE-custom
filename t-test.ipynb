{
 "cells": [
  {
   "cell_type": "markdown",
   "metadata": {},
   "source": [
    "# CPD using TIRE"
   ]
  },
  {
   "cell_type": "code",
   "execution_count": 23,
   "metadata": {},
   "outputs": [
    {
     "name": "stdout",
     "output_type": "stream",
     "text": [
      "Repeatable test: [8, 8, 6]\n",
      "Repeatable test: [8, 8, 6]\n",
      "Repeatable test: [8, 8, 6]\n",
      "Repeatable test: [8, 8, 6]\n"
     ]
    }
   ],
   "source": [
    "import numpy as np\n",
    "np.random.seed(2)\n",
    "def test():\n",
    "    np.random.seed(2)\n",
    "    print(\"Repeatable test:\", [np.random.randint(10) for i in range(3)])\n",
    "\n",
    "n_loop = 4\n",
    "# max_rand_int = 1000*n_loop # i think this is enough\n",
    "# seeds = np.random.randint(max_rand_int, size=n_loop) # make list of seeds\n",
    "for i in range(n_loop):\n",
    "    test()\n",
    "    # np.random.seed(seed)"
   ]
  },
  {
   "cell_type": "markdown",
   "metadata": {},
   "source": [
    "# EEG TD"
   ]
  },
  {
   "cell_type": "code",
   "execution_count": 3,
   "metadata": {},
   "outputs": [
    {
     "data": {
      "text/plain": [
       "Ttest_indResult(statistic=-0.056265768355072916, pvalue=0.47796260940330654)"
      ]
     },
     "execution_count": 3,
     "metadata": {},
     "output_type": "execute_result"
    }
   ],
   "source": [
    "l2_norm_td = [0.49141,\t0.46969,\t0.38749,\t0.58126,\t0.42441,\t0.40478,\t0.56076,\t0.54146]\n",
    "\n",
    "dmd = [0.47523427,\t0.46808,\t0.37994723,\t0.581818182,\t0.415316642,\t0.400240385,\t0.584662111,\t0.573875803]\n",
    "\n",
    "ica_l2 = [0.469781931,\t0.461818182,\t0.388359788,\t0.578633046,\t0.392258065,\t0.376645678,\t0.573938507,\t0.55563331]\n",
    "\n",
    "import scipy.stats as stats \n",
    "stats.ttest_ind(l2_norm_td, dmd, alternative='less')\n"
   ]
  },
  {
   "cell_type": "code",
   "execution_count": 2,
   "metadata": {},
   "outputs": [
    {
     "data": {
      "text/plain": [
       "Ttest_indResult(statistic=-3.4365374280399164, pvalue=0.0014716524536884511)"
      ]
     },
     "execution_count": 2,
     "metadata": {},
     "output_type": "execute_result"
    }
   ],
   "source": [
    "# jumpmean diff magnitude \n",
    "l2 = [0.543209877,\t0.684684685,\t0.586956522,\t0.601941748,\t0.615384615,\t0.689655172,\t0.578125,\t0.62745098,\t0.59770114,\t0.615384615]\n",
    "\n",
    "dmd = [0.778947368,\t0.74226804,\t0.701298701,\t0.729166666,\t0.67368421,\t0.65,\t0.58536585,\t0.62650602,\t0.744186047,\t0.73563218]\n",
    "\n",
    "import scipy.stats as stats \n",
    "\n",
    "stats.ttest_ind(l2, dmd, alternative='less')"
   ]
  },
  {
   "cell_type": "code",
   "execution_count": 1,
   "metadata": {},
   "outputs": [],
   "source": [
    "import numpy as np \n",
    "file_path = './data/jumpmean-ar-5-noise/original_l2/dissimilarities_dataset1_original_l2_alpha/dissimilarities_FD.txt'\n",
    "dissimilarities = np.loadtxt(file_path)\n"
   ]
  },
  {
   "cell_type": "code",
   "execution_count": 5,
   "metadata": {},
   "outputs": [
    {
     "data": {
      "text/plain": [
       "True"
      ]
     },
     "execution_count": 5,
     "metadata": {},
     "output_type": "execute_result"
    }
   ],
   "source": [
    "np.isnan(dissimilarities).all()"
   ]
  },
  {
   "cell_type": "code",
   "execution_count": 11,
   "metadata": {},
   "outputs": [
    {
     "data": {
      "text/plain": [
       "True"
      ]
     },
     "execution_count": 11,
     "metadata": {},
     "output_type": "execute_result"
    }
   ],
   "source": [
    "a = np.array([0.0, 0, 0])\n",
    "a.sum() == 0"
   ]
  },
  {
   "cell_type": "code",
   "execution_count": 9,
   "metadata": {},
   "outputs": [
    {
     "data": {
      "text/plain": [
       "Ttest_indResult(statistic=0.10887427585025465, pvalue=0.9145067476109924)"
      ]
     },
     "execution_count": 9,
     "metadata": {},
     "output_type": "execute_result"
    }
   ],
   "source": [
    "import scipy.stats as stats\n",
    "mean1, std1, nobs1 = 0.486, 0.077, 10\n",
    "mean2, std2, nobs2 = 0.482, 0.087, 10\n",
    "\n",
    "# alternative{‘two-sided’, ‘less’, ‘greater’}\n",
    "stats.ttest_ind_from_stats(mean1, std1, nobs1, mean2, std2, nobs2)"
   ]
  }
 ],
 "metadata": {
  "interpreter": {
   "hash": "b1e259f8989b5c9c45559a1752ef2f72f727f33e7b4cd49fa4d8dfdfbce9ad9e"
  },
  "kernelspec": {
   "display_name": "Python 3.9.7 ('ml')",
   "language": "python",
   "name": "python3"
  },
  "language_info": {
   "codemirror_mode": {
    "name": "ipython",
    "version": 3
   },
   "file_extension": ".py",
   "mimetype": "text/x-python",
   "name": "python",
   "nbconvert_exporter": "python",
   "pygments_lexer": "ipython3",
   "version": "3.9.12"
  }
 },
 "nbformat": 4,
 "nbformat_minor": 2
}
