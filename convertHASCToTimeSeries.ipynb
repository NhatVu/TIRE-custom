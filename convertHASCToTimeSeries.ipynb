{
 "cells": [
  {
   "cell_type": "code",
   "execution_count": 2,
   "metadata": {},
   "outputs": [],
   "source": [
    "import pandas as pd \n",
    "import numpy as np"
   ]
  },
  {
   "cell_type": "code",
   "execution_count": 3,
   "metadata": {},
   "outputs": [
    {
     "name": "stdout",
     "output_type": "stream",
     "text": [
      "raw shape: (39397, 4), label shape: (40, 3)\n",
      "Raw activity data\n",
      "          time         x         y         z\n",
      "0  5015.672119  0.115128 -0.988739 -0.090057\n",
      "1  5015.687371  0.110138 -0.986694 -0.086288\n",
      "2  5015.704061  0.116180 -0.991669 -0.091003\n",
      "3  5015.715389  0.112259 -0.989670 -0.091095\n",
      "4  5015.726564  0.114349 -0.989746 -0.097855\n",
      "\n",
      "raw label data\n",
      "      start       end                    label\n",
      "0  5057.661  5091.260  walk;floor;B2F;steps;44\n",
      "1  5071.934       NaN                walk;turn\n",
      "2  5098.502  5126.499         escalatorUp;stay\n",
      "3  5125.117       NaN           move;floor;B1F\n",
      "4  5127.665  5143.411  walk;floor;B1F;steps;22\n"
     ]
    }
   ],
   "source": [
    "raw_file = './data/hasc-111018-165936-acc.csv'\n",
    "raw_label = './data/hasc-111018-165936.label'\n",
    "\n",
    "raw_df = pd.read_csv(raw_file, header=None)\n",
    "raw_df.columns = ['time', 'x', 'y', 'z']\n",
    "raw_label_df = pd.read_csv(raw_label, skiprows=2, header=None)\n",
    "raw_label_df.columns = ['start', 'end', 'label']\n",
    "print(f'raw shape: {raw_df.shape}, label shape: {raw_label_df.shape}')\n",
    "print('Raw activity data')\n",
    "print(raw_df.head())\n",
    "print('\\nraw label data')\n",
    "print(raw_label_df.head())"
   ]
  },
  {
   "cell_type": "code",
   "execution_count": 9,
   "metadata": {},
   "outputs": [
    {
     "name": "stdout",
     "output_type": "stream",
     "text": [
      "   level_0  index         time         x         y         z   l2_norm\n",
      "0        0      0  5015.672119  0.115128 -0.988739 -0.090057  0.999485\n",
      "1        1      1  5015.687371  0.110138 -0.986694 -0.086288  0.996565\n",
      "2        2      2  5015.704061  0.116180 -0.991669 -0.091003  1.002590\n",
      "3        3      3  5015.715389  0.112259 -0.989670 -0.091095  1.000174\n",
      "4        4      4  5015.726564  0.114349 -0.989746 -0.097855  1.001124\n"
     ]
    }
   ],
   "source": [
    "# add index column\n",
    "raw_df = raw_df.reset_index()\n",
    "print(raw_df.head())"
   ]
  },
  {
   "cell_type": "code",
   "execution_count": 7,
   "metadata": {},
   "outputs": [
    {
     "data": {
      "text/plain": [
       "0    0.999485\n",
       "1    0.996565\n",
       "2    1.002590\n",
       "3    1.000174\n",
       "4    1.001124\n",
       "Name: l2_norm, dtype: float64"
      ]
     },
     "execution_count": 7,
     "metadata": {},
     "output_type": "execute_result"
    }
   ],
   "source": [
    "raw_df['l2_norm'] = np.sqrt(np.square(raw_df[['x', 'y', 'z']]).sum(axis=1))\n",
    "raw_df['l2_norm'].head()"
   ]
  },
  {
   "cell_type": "code",
   "execution_count": 10,
   "metadata": {},
   "outputs": [],
   "source": [
    "raw_df[['l2_norm']].to_csv('./data/preprocess/hasc_l2_norm.csv')"
   ]
  },
  {
   "cell_type": "markdown",
   "metadata": {},
   "source": [
    "## create breakpoints index label"
   ]
  },
  {
   "cell_type": "code",
   "execution_count": 12,
   "metadata": {},
   "outputs": [],
   "source": [
    "raw_time = raw_df['time'].to_numpy()\n",
    "raw_label_start = raw_label_df['start'].to_numpy()"
   ]
  },
  {
   "cell_type": "code",
   "execution_count": 15,
   "metadata": {},
   "outputs": [
    {
     "name": "stdout",
     "output_type": "stream",
     "text": [
      "len: 40, value: [3959, 5305, 7812, 10325, 10565, 13084, 14136, 14184, 14411, 14931, 18428, 19901, 21086, 21538, 23834, 24236, 24469, 24818, 24884, 25214, 25597, 25710, 25780, 26510, 27408, 27431, 28116, 28396, 29188, 30016, 30072, 30407, 30769, 30858, 33567, 34033, 34265, 35529, 37511, 37787]\n"
     ]
    }
   ],
   "source": [
    "breakpoints_index = []\n",
    "start_index = 0\n",
    "for i in range(len(raw_time)):\n",
    "    if start_index < len(raw_label_start) and raw_time[i] > raw_label_start[start_index]:\n",
    "        breakpoints_index.append(i)\n",
    "        start_index += 1\n",
    "print(f'len: {len(breakpoints_index)}, value: {breakpoints_index}')"
   ]
  },
  {
   "cell_type": "code",
   "execution_count": 16,
   "metadata": {},
   "outputs": [],
   "source": [
    "# save\n",
    "np.savetxt('./data/preprocess/hasc_label_index.txt', breakpoints_index, fmt='%i')"
   ]
  }
 ],
 "metadata": {
  "interpreter": {
   "hash": "fe9924e612cbd6f7c4bcff816479be941ee7fe7f1ea68d73d5f3591189c647f1"
  },
  "kernelspec": {
   "display_name": "Python 3.8.10 64-bit ('ml': venv)",
   "language": "python",
   "name": "python3"
  },
  "language_info": {
   "codemirror_mode": {
    "name": "ipython",
    "version": 3
   },
   "file_extension": ".py",
   "mimetype": "text/x-python",
   "name": "python",
   "nbconvert_exporter": "python",
   "pygments_lexer": "ipython3",
   "version": "3.8.10"
  },
  "orig_nbformat": 4
 },
 "nbformat": 4,
 "nbformat_minor": 2
}
