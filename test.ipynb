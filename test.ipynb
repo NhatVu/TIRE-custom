{
 "cells": [
  {
   "cell_type": "markdown",
   "metadata": {},
   "source": [
    "# CPD using TIRE"
   ]
  },
  {
   "cell_type": "code",
   "execution_count": 2,
   "metadata": {},
   "outputs": [
    {
     "ename": "ImportError",
     "evalue": "Bigsimr not found",
     "output_type": "error",
     "traceback": [
      "\u001b[1;31m---------------------------------------------------------------------------\u001b[0m",
      "\u001b[1;31mImportError\u001b[0m                               Traceback (most recent call last)",
      "\u001b[1;32mc:\\Users\\Minh Nhat\\Downloads\\DCU\\Practicum\\TIRE-custom\\test.ipynb Cell 2'\u001b[0m in \u001b[0;36m<cell line: 8>\u001b[1;34m()\u001b[0m\n\u001b[0;32m      <a href='vscode-notebook-cell:/c%3A/Users/Minh%20Nhat/Downloads/DCU/Practicum/TIRE-custom/test.ipynb#ch0000001?line=4'>5</a>\u001b[0m jl \u001b[39m=\u001b[39m Julia(runtime\u001b[39m=\u001b[39mjpath, compiled_modules\u001b[39m=\u001b[39m\u001b[39mFalse\u001b[39;00m)\n\u001b[0;32m      <a href='vscode-notebook-cell:/c%3A/Users/Minh%20Nhat/Downloads/DCU/Practicum/TIRE-custom/test.ipynb#ch0000001?line=5'>6</a>\u001b[0m \u001b[39m# jl = Julia(compiled_modules=False) # conda users -> set to False\u001b[39;00m\n\u001b[1;32m----> <a href='vscode-notebook-cell:/c%3A/Users/Minh%20Nhat/Downloads/DCU/Practicum/TIRE-custom/test.ipynb#ch0000001?line=7'>8</a>\u001b[0m \u001b[39mfrom\u001b[39;00m \u001b[39mjulia\u001b[39;00m \u001b[39mimport\u001b[39;00m Bigsimr \u001b[39mas\u001b[39;00m bs\n\u001b[0;32m      <a href='vscode-notebook-cell:/c%3A/Users/Minh%20Nhat/Downloads/DCU/Practicum/TIRE-custom/test.ipynb#ch0000001?line=8'>9</a>\u001b[0m \u001b[39mfrom\u001b[39;00m \u001b[39mjulia\u001b[39;00m \u001b[39mimport\u001b[39;00m Distributions \u001b[39mas\u001b[39;00m dist\n\u001b[0;32m     <a href='vscode-notebook-cell:/c%3A/Users/Minh%20Nhat/Downloads/DCU/Practicum/TIRE-custom/test.ipynb#ch0000001?line=10'>11</a>\u001b[0m \u001b[39mimport\u001b[39;00m \u001b[39mnumpy\u001b[39;00m \u001b[39mas\u001b[39;00m \u001b[39mnp\u001b[39;00m\n",
      "File \u001b[1;32mc:\\Users\\Minh Nhat\\.conda\\envs\\ml\\lib\\site-packages\\julia\\core.py:260\u001b[0m, in \u001b[0;36mJuliaModuleLoader.load_module\u001b[1;34m(self, fullname)\u001b[0m\n\u001b[0;32m    256\u001b[0m     \u001b[39mif\u001b[39;00m \u001b[39mself\u001b[39m\u001b[39m.\u001b[39mjulia\u001b[39m.\u001b[39misamodule(juliapath):\n\u001b[0;32m    257\u001b[0m         \u001b[39mreturn\u001b[39;00m sys\u001b[39m.\u001b[39mmodules\u001b[39m.\u001b[39msetdefault(fullname,\n\u001b[0;32m    258\u001b[0m                                       JuliaModule(\u001b[39mself\u001b[39m, fullname))\n\u001b[1;32m--> 260\u001b[0m \u001b[39mraise\u001b[39;00m \u001b[39mImportError\u001b[39;00m(\u001b[39m\"\u001b[39m\u001b[39m{}\u001b[39;00m\u001b[39m not found\u001b[39m\u001b[39m\"\u001b[39m\u001b[39m.\u001b[39mformat(juliapath))\n",
      "\u001b[1;31mImportError\u001b[0m: Bigsimr not found"
     ]
    }
   ],
   "source": [
    "from julia.api import Julia\n",
    "from pathlib import Path\n",
    "\n",
    "jpath = Path(\"C://Users/Minh Nhat/AppData/Local/Programs/Julia-1.7.3/bin/julia.exe\") # path to Julia, from current directory (your path may be slightly different)\n",
    "jl = Julia(runtime=jpath, compiled_modules=False)\n",
    "# jl = Julia(compiled_modules=False) # conda users -> set to False\n",
    "\n",
    "from julia import Bigsimr as bs\n",
    "from julia import Distributions as dist\n",
    "\n",
    "import numpy as np"
   ]
  },
  {
   "cell_type": "code",
   "execution_count": 3,
   "metadata": {},
   "outputs": [
    {
     "ename": "JuliaNotFound",
     "evalue": "Julia executable `julia` cannot be found.\n\nIf you have installed Julia, make sure Julia executable is in the\nsystem PATH.  Alternatively, specify file path to the Julia executable\nusing `julia` keyword argument.\n\nIf you have not installed Julia, download Julia from\nhttps://julialang.org/downloads/ and install it.\n",
     "output_type": "error",
     "traceback": [
      "\u001b[1;31m---------------------------------------------------------------------------\u001b[0m",
      "\u001b[1;31mJuliaNotFound\u001b[0m                             Traceback (most recent call last)",
      "\u001b[1;32mc:\\Users\\Minh Nhat\\Downloads\\DCU\\Practicum\\TIRE-custom\\test.ipynb Cell 3'\u001b[0m in \u001b[0;36m<cell line: 2>\u001b[1;34m()\u001b[0m\n\u001b[0;32m      <a href='vscode-notebook-cell:/c%3A/Users/Minh%20Nhat/Downloads/DCU/Practicum/TIRE-custom/test.ipynb#ch0000004?line=0'>1</a>\u001b[0m \u001b[39mfrom\u001b[39;00m \u001b[39mbigsimr\u001b[39;00m \u001b[39mimport\u001b[39;00m setup\n\u001b[1;32m----> <a href='vscode-notebook-cell:/c%3A/Users/Minh%20Nhat/Downloads/DCU/Practicum/TIRE-custom/test.ipynb#ch0000004?line=1'>2</a>\u001b[0m setup(compiled_modules\u001b[39m=\u001b[39;49m\u001b[39mFalse\u001b[39;49;00m)\n",
      "File \u001b[1;32mc:\\Users\\Minh Nhat\\.conda\\envs\\ml\\lib\\site-packages\\bigsimr\\setup.py:6\u001b[0m, in \u001b[0;36msetup\u001b[1;34m(compiled_modules)\u001b[0m\n\u001b[0;32m      5\u001b[0m \u001b[39mdef\u001b[39;00m \u001b[39msetup\u001b[39m(compiled_modules\u001b[39m=\u001b[39m\u001b[39mTrue\u001b[39;00m):\n\u001b[1;32m----> 6\u001b[0m     julia\u001b[39m.\u001b[39;49minstall()\n\u001b[0;32m      7\u001b[0m     jl \u001b[39m=\u001b[39m Julia(compiled_modules\u001b[39m=\u001b[39mcompiled_modules)\n\u001b[0;32m      9\u001b[0m     \u001b[39mfrom\u001b[39;00m \u001b[39mjulia\u001b[39;00m \u001b[39mimport\u001b[39;00m Pkg\n",
      "File \u001b[1;32mc:\\Users\\Minh Nhat\\.conda\\envs\\ml\\lib\\site-packages\\julia\\tools.py:78\u001b[0m, in \u001b[0;36minstall\u001b[1;34m(julia, color, python, quiet)\u001b[0m\n\u001b[0;32m     61\u001b[0m \u001b[39m\"\"\"\u001b[39;00m\n\u001b[0;32m     62\u001b[0m \u001b[39minstall(*, julia=\"julia\", color=\"auto\")\u001b[39;00m\n\u001b[0;32m     63\u001b[0m \u001b[39mInstall Julia packages required by PyJulia in `julia`.\u001b[39;00m\n\u001b[1;32m   (...)\u001b[0m\n\u001b[0;32m     75\u001b[0m \u001b[39m    automatically.\u001b[39;00m\n\u001b[0;32m     76\u001b[0m \u001b[39m\"\"\"\u001b[39;00m\n\u001b[0;32m     77\u001b[0m \u001b[39mif\u001b[39;00m which(julia) \u001b[39mis\u001b[39;00m \u001b[39mNone\u001b[39;00m:\n\u001b[1;32m---> 78\u001b[0m     \u001b[39mraise\u001b[39;00m JuliaNotFound(julia, kwargname\u001b[39m=\u001b[39m\u001b[39m\"\u001b[39m\u001b[39mjulia\u001b[39m\u001b[39m\"\u001b[39m)\n\u001b[0;32m     80\u001b[0m libpython \u001b[39m=\u001b[39m linked_libpython() \u001b[39mor\u001b[39;00m \u001b[39m\"\u001b[39m\u001b[39m\"\u001b[39m\n\u001b[0;32m     82\u001b[0m julia_cmd \u001b[39m=\u001b[39m [julia, \u001b[39m\"\u001b[39m\u001b[39m--startup-file=no\u001b[39m\u001b[39m\"\u001b[39m]\n",
      "\u001b[1;31mJuliaNotFound\u001b[0m: Julia executable `julia` cannot be found.\n\nIf you have installed Julia, make sure Julia executable is in the\nsystem PATH.  Alternatively, specify file path to the Julia executable\nusing `julia` keyword argument.\n\nIf you have not installed Julia, download Julia from\nhttps://julialang.org/downloads/ and install it.\n"
     ]
    }
   ],
   "source": [
    "from bigsimr import setup\n",
    "import julia\n",
    "from julia.api import Julia\n",
    "\n",
    "julia.install()\n",
    "jl = Julia(compiled_modules=False)\n",
    "\n",
    "from julia import Pkg\n",
    "Pkg.add(\"Bigsimr\") # Lock to specific version for stability\n",
    "Pkg.add(\"Distributions\") # Install Distributions after Bigsimr"
   ]
  }
 ],
 "metadata": {
  "interpreter": {
   "hash": "b1e259f8989b5c9c45559a1752ef2f72f727f33e7b4cd49fa4d8dfdfbce9ad9e"
  },
  "kernelspec": {
   "display_name": "Python 3.9.7 ('ml')",
   "language": "python",
   "name": "python3"
  },
  "language_info": {
   "codemirror_mode": {
    "name": "ipython",
    "version": 3
   },
   "file_extension": ".py",
   "mimetype": "text/x-python",
   "name": "python",
   "nbconvert_exporter": "python",
   "pygments_lexer": "ipython3",
   "version": "3.9.12"
  }
 },
 "nbformat": 4,
 "nbformat_minor": 2
}
